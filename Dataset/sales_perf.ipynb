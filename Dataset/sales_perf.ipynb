{
 "cells": [
  {
   "cell_type": "markdown",
   "metadata": {},
   "source": [
    "#### Importing Necessary Libraries"
   ]
  },
  {
   "cell_type": "code",
   "execution_count": 1,
   "metadata": {},
   "outputs": [],
   "source": [
    "import pandas as pd\n",
    "import numpy as np"
   ]
  },
  {
   "cell_type": "markdown",
   "metadata": {},
   "source": [
    "#### The Extraction Layer"
   ]
  },
  {
   "cell_type": "code",
   "execution_count": 2,
   "metadata": {},
   "outputs": [],
   "source": [
    "sales_perf_df = pd.read_csv(r'C:\\Users\\USER\\Desktop\\Sale Performance\\Sale-Performance\\Dataset\\rawdata\\Sales Dataset - Sales Dataset.csv')"
   ]
  },
  {
   "cell_type": "code",
   "execution_count": 3,
   "metadata": {},
   "outputs": [
    {
     "data": {
      "text/html": [
       "<div>\n",
       "<style scoped>\n",
       "    .dataframe tbody tr th:only-of-type {\n",
       "        vertical-align: middle;\n",
       "    }\n",
       "\n",
       "    .dataframe tbody tr th {\n",
       "        vertical-align: top;\n",
       "    }\n",
       "\n",
       "    .dataframe thead th {\n",
       "        text-align: right;\n",
       "    }\n",
       "</style>\n",
       "<table border=\"1\" class=\"dataframe\">\n",
       "  <thead>\n",
       "    <tr style=\"text-align: right;\">\n",
       "      <th></th>\n",
       "      <th>Order ID</th>\n",
       "      <th>Amount</th>\n",
       "      <th>Profit</th>\n",
       "      <th>Quantity</th>\n",
       "      <th>Category</th>\n",
       "      <th>Sub-Category</th>\n",
       "      <th>PaymentMode</th>\n",
       "      <th>Order Date</th>\n",
       "      <th>CustomerName</th>\n",
       "      <th>State</th>\n",
       "      <th>City</th>\n",
       "      <th>Year-Month</th>\n",
       "    </tr>\n",
       "  </thead>\n",
       "  <tbody>\n",
       "    <tr>\n",
       "      <th>0</th>\n",
       "      <td>B-26776</td>\n",
       "      <td>9726</td>\n",
       "      <td>1275</td>\n",
       "      <td>5</td>\n",
       "      <td>Electronics</td>\n",
       "      <td>Electronic Games</td>\n",
       "      <td>UPI</td>\n",
       "      <td>2023-06-27</td>\n",
       "      <td>David Padilla</td>\n",
       "      <td>Florida</td>\n",
       "      <td>Miami</td>\n",
       "      <td>2023-06</td>\n",
       "    </tr>\n",
       "    <tr>\n",
       "      <th>1</th>\n",
       "      <td>B-26776</td>\n",
       "      <td>9726</td>\n",
       "      <td>1275</td>\n",
       "      <td>5</td>\n",
       "      <td>Electronics</td>\n",
       "      <td>Electronic Games</td>\n",
       "      <td>UPI</td>\n",
       "      <td>2024-12-27</td>\n",
       "      <td>Connor Morgan</td>\n",
       "      <td>Illinois</td>\n",
       "      <td>Chicago</td>\n",
       "      <td>2024-12</td>\n",
       "    </tr>\n",
       "    <tr>\n",
       "      <th>2</th>\n",
       "      <td>B-26776</td>\n",
       "      <td>9726</td>\n",
       "      <td>1275</td>\n",
       "      <td>5</td>\n",
       "      <td>Electronics</td>\n",
       "      <td>Electronic Games</td>\n",
       "      <td>UPI</td>\n",
       "      <td>2021-07-25</td>\n",
       "      <td>Robert Stone</td>\n",
       "      <td>New York</td>\n",
       "      <td>Buffalo</td>\n",
       "      <td>2021-07</td>\n",
       "    </tr>\n",
       "    <tr>\n",
       "      <th>3</th>\n",
       "      <td>B-26776</td>\n",
       "      <td>4975</td>\n",
       "      <td>1330</td>\n",
       "      <td>14</td>\n",
       "      <td>Electronics</td>\n",
       "      <td>Printers</td>\n",
       "      <td>UPI</td>\n",
       "      <td>2023-06-27</td>\n",
       "      <td>David Padilla</td>\n",
       "      <td>Florida</td>\n",
       "      <td>Miami</td>\n",
       "      <td>2023-06</td>\n",
       "    </tr>\n",
       "    <tr>\n",
       "      <th>4</th>\n",
       "      <td>B-26776</td>\n",
       "      <td>4975</td>\n",
       "      <td>1330</td>\n",
       "      <td>14</td>\n",
       "      <td>Electronics</td>\n",
       "      <td>Printers</td>\n",
       "      <td>UPI</td>\n",
       "      <td>2024-12-27</td>\n",
       "      <td>Connor Morgan</td>\n",
       "      <td>Illinois</td>\n",
       "      <td>Chicago</td>\n",
       "      <td>2024-12</td>\n",
       "    </tr>\n",
       "  </tbody>\n",
       "</table>\n",
       "</div>"
      ],
      "text/plain": [
       "  Order ID  Amount  Profit  Quantity     Category      Sub-Category  \\\n",
       "0  B-26776    9726    1275         5  Electronics  Electronic Games   \n",
       "1  B-26776    9726    1275         5  Electronics  Electronic Games   \n",
       "2  B-26776    9726    1275         5  Electronics  Electronic Games   \n",
       "3  B-26776    4975    1330        14  Electronics          Printers   \n",
       "4  B-26776    4975    1330        14  Electronics          Printers   \n",
       "\n",
       "  PaymentMode  Order Date   CustomerName     State     City Year-Month  \n",
       "0         UPI  2023-06-27  David Padilla   Florida    Miami    2023-06  \n",
       "1         UPI  2024-12-27  Connor Morgan  Illinois  Chicago    2024-12  \n",
       "2         UPI  2021-07-25   Robert Stone  New York  Buffalo    2021-07  \n",
       "3         UPI  2023-06-27  David Padilla   Florida    Miami    2023-06  \n",
       "4         UPI  2024-12-27  Connor Morgan  Illinois  Chicago    2024-12  "
      ]
     },
     "execution_count": 3,
     "metadata": {},
     "output_type": "execute_result"
    }
   ],
   "source": [
    "sales_perf_df.head()"
   ]
  },
  {
   "cell_type": "code",
   "execution_count": 4,
   "metadata": {},
   "outputs": [
    {
     "name": "stdout",
     "output_type": "stream",
     "text": [
      "<class 'pandas.core.frame.DataFrame'>\n",
      "RangeIndex: 1194 entries, 0 to 1193\n",
      "Data columns (total 12 columns):\n",
      " #   Column        Non-Null Count  Dtype \n",
      "---  ------        --------------  ----- \n",
      " 0   Order ID      1194 non-null   object\n",
      " 1   Amount        1194 non-null   int64 \n",
      " 2   Profit        1194 non-null   int64 \n",
      " 3   Quantity      1194 non-null   int64 \n",
      " 4   Category      1194 non-null   object\n",
      " 5   Sub-Category  1194 non-null   object\n",
      " 6   PaymentMode   1194 non-null   object\n",
      " 7   Order Date    1194 non-null   object\n",
      " 8   CustomerName  1194 non-null   object\n",
      " 9   State         1194 non-null   object\n",
      " 10  City          1194 non-null   object\n",
      " 11  Year-Month    1194 non-null   object\n",
      "dtypes: int64(3), object(9)\n",
      "memory usage: 112.1+ KB\n"
     ]
    }
   ],
   "source": [
    "sales_perf_df.info()"
   ]
  },
  {
   "cell_type": "markdown",
   "metadata": {},
   "source": [
    "#### Data Cleaning and Transformation"
   ]
  },
  {
   "cell_type": "code",
   "execution_count": 5,
   "metadata": {},
   "outputs": [],
   "source": [
    "# covert order_date to datetime\n",
    "sales_perf_df['Order Date'] = pd.to_datetime(sales_perf_df['Order Date'])\n",
    "sales_perf_df['Year-Month'] = pd.to_datetime(sales_perf_df['Year-Month'])\n"
   ]
  },
  {
   "cell_type": "code",
   "execution_count": 6,
   "metadata": {},
   "outputs": [
    {
     "name": "stdout",
     "output_type": "stream",
     "text": [
      "<class 'pandas.core.frame.DataFrame'>\n",
      "RangeIndex: 1194 entries, 0 to 1193\n",
      "Data columns (total 12 columns):\n",
      " #   Column        Non-Null Count  Dtype         \n",
      "---  ------        --------------  -----         \n",
      " 0   Order ID      1194 non-null   object        \n",
      " 1   Amount        1194 non-null   int64         \n",
      " 2   Profit        1194 non-null   int64         \n",
      " 3   Quantity      1194 non-null   int64         \n",
      " 4   Category      1194 non-null   object        \n",
      " 5   Sub-Category  1194 non-null   object        \n",
      " 6   PaymentMode   1194 non-null   object        \n",
      " 7   Order Date    1194 non-null   datetime64[ns]\n",
      " 8   CustomerName  1194 non-null   object        \n",
      " 9   State         1194 non-null   object        \n",
      " 10  City          1194 non-null   object        \n",
      " 11  Year-Month    1194 non-null   datetime64[ns]\n",
      "dtypes: datetime64[ns](2), int64(3), object(7)\n",
      "memory usage: 112.1+ KB\n"
     ]
    }
   ],
   "source": [
    "sales_perf_df.info()"
   ]
  },
  {
   "cell_type": "markdown",
   "metadata": {},
   "source": [
    "#### Building Dataframe"
   ]
  },
  {
   "cell_type": "code",
   "execution_count": 7,
   "metadata": {},
   "outputs": [
    {
     "data": {
      "text/html": [
       "<div>\n",
       "<style scoped>\n",
       "    .dataframe tbody tr th:only-of-type {\n",
       "        vertical-align: middle;\n",
       "    }\n",
       "\n",
       "    .dataframe tbody tr th {\n",
       "        vertical-align: top;\n",
       "    }\n",
       "\n",
       "    .dataframe thead th {\n",
       "        text-align: right;\n",
       "    }\n",
       "</style>\n",
       "<table border=\"1\" class=\"dataframe\">\n",
       "  <thead>\n",
       "    <tr style=\"text-align: right;\">\n",
       "      <th></th>\n",
       "      <th>CustomerName</th>\n",
       "      <th>State</th>\n",
       "      <th>City</th>\n",
       "      <th>customer_Id</th>\n",
       "    </tr>\n",
       "  </thead>\n",
       "  <tbody>\n",
       "    <tr>\n",
       "      <th>0</th>\n",
       "      <td>David Padilla</td>\n",
       "      <td>Florida</td>\n",
       "      <td>Miami</td>\n",
       "      <td>1</td>\n",
       "    </tr>\n",
       "    <tr>\n",
       "      <th>1</th>\n",
       "      <td>Connor Morgan</td>\n",
       "      <td>Illinois</td>\n",
       "      <td>Chicago</td>\n",
       "      <td>2</td>\n",
       "    </tr>\n",
       "    <tr>\n",
       "      <th>2</th>\n",
       "      <td>Robert Stone</td>\n",
       "      <td>New York</td>\n",
       "      <td>Buffalo</td>\n",
       "      <td>3</td>\n",
       "    </tr>\n",
       "    <tr>\n",
       "      <th>3</th>\n",
       "      <td>John Fields</td>\n",
       "      <td>Florida</td>\n",
       "      <td>Orlando</td>\n",
       "      <td>4</td>\n",
       "    </tr>\n",
       "    <tr>\n",
       "      <th>4</th>\n",
       "      <td>Clayton Smith</td>\n",
       "      <td>Florida</td>\n",
       "      <td>Miami</td>\n",
       "      <td>5</td>\n",
       "    </tr>\n",
       "  </tbody>\n",
       "</table>\n",
       "</div>"
      ],
      "text/plain": [
       "    CustomerName     State     City  customer_Id\n",
       "0  David Padilla   Florida    Miami            1\n",
       "1  Connor Morgan  Illinois  Chicago            2\n",
       "2   Robert Stone  New York  Buffalo            3\n",
       "3    John Fields   Florida  Orlando            4\n",
       "4  Clayton Smith   Florida    Miami            5"
      ]
     },
     "execution_count": 7,
     "metadata": {},
     "output_type": "execute_result"
    }
   ],
   "source": [
    "# Customer table\n",
    "Customers_df = sales_perf_df[['CustomerName', 'State', 'City']].copy().drop_duplicates().reset_index(drop=True)\n",
    "Customers_df[\"customer_Id\"] = Customers_df.index + 1\n",
    "Customers_df.head()"
   ]
  },
  {
   "cell_type": "code",
   "execution_count": 8,
   "metadata": {},
   "outputs": [
    {
     "data": {
      "text/html": [
       "<div>\n",
       "<style scoped>\n",
       "    .dataframe tbody tr th:only-of-type {\n",
       "        vertical-align: middle;\n",
       "    }\n",
       "\n",
       "    .dataframe tbody tr th {\n",
       "        vertical-align: top;\n",
       "    }\n",
       "\n",
       "    .dataframe thead th {\n",
       "        text-align: right;\n",
       "    }\n",
       "</style>\n",
       "<table border=\"1\" class=\"dataframe\">\n",
       "  <thead>\n",
       "    <tr style=\"text-align: right;\">\n",
       "      <th></th>\n",
       "      <th>Category</th>\n",
       "      <th>Sub-Category</th>\n",
       "      <th>Amount</th>\n",
       "      <th>category_Id</th>\n",
       "    </tr>\n",
       "  </thead>\n",
       "  <tbody>\n",
       "    <tr>\n",
       "      <th>0</th>\n",
       "      <td>Electronics</td>\n",
       "      <td>Electronic Games</td>\n",
       "      <td>9726</td>\n",
       "      <td>1</td>\n",
       "    </tr>\n",
       "    <tr>\n",
       "      <th>1</th>\n",
       "      <td>Electronics</td>\n",
       "      <td>Printers</td>\n",
       "      <td>4975</td>\n",
       "      <td>2</td>\n",
       "    </tr>\n",
       "    <tr>\n",
       "      <th>2</th>\n",
       "      <td>Office Supplies</td>\n",
       "      <td>Pens</td>\n",
       "      <td>1525</td>\n",
       "      <td>3</td>\n",
       "    </tr>\n",
       "    <tr>\n",
       "      <th>3</th>\n",
       "      <td>Electronics</td>\n",
       "      <td>Laptops</td>\n",
       "      <td>883</td>\n",
       "      <td>4</td>\n",
       "    </tr>\n",
       "    <tr>\n",
       "      <th>4</th>\n",
       "      <td>Furniture</td>\n",
       "      <td>Tables</td>\n",
       "      <td>8127</td>\n",
       "      <td>5</td>\n",
       "    </tr>\n",
       "  </tbody>\n",
       "</table>\n",
       "</div>"
      ],
      "text/plain": [
       "          Category      Sub-Category  Amount  category_Id\n",
       "0      Electronics  Electronic Games    9726            1\n",
       "1      Electronics          Printers    4975            2\n",
       "2  Office Supplies              Pens    1525            3\n",
       "3      Electronics           Laptops     883            4\n",
       "4        Furniture            Tables    8127            5"
      ]
     },
     "execution_count": 8,
     "metadata": {},
     "output_type": "execute_result"
    }
   ],
   "source": [
    "# Product table\n",
    "Products_df = sales_perf_df[['Category', 'Sub-Category', 'Amount']].copy().drop_duplicates().reset_index(drop=True)\n",
    "Products_df[\"category_Id\"] = Products_df.index + 1\n",
    "Products_df.head()"
   ]
  },
  {
   "cell_type": "code",
   "execution_count": 9,
   "metadata": {},
   "outputs": [
    {
     "data": {
      "text/html": [
       "<div>\n",
       "<style scoped>\n",
       "    .dataframe tbody tr th:only-of-type {\n",
       "        vertical-align: middle;\n",
       "    }\n",
       "\n",
       "    .dataframe tbody tr th {\n",
       "        vertical-align: top;\n",
       "    }\n",
       "\n",
       "    .dataframe thead th {\n",
       "        text-align: right;\n",
       "    }\n",
       "</style>\n",
       "<table border=\"1\" class=\"dataframe\">\n",
       "  <thead>\n",
       "    <tr style=\"text-align: right;\">\n",
       "      <th></th>\n",
       "      <th>Order ID</th>\n",
       "      <th>PaymentMode</th>\n",
       "      <th>payment_Id</th>\n",
       "    </tr>\n",
       "  </thead>\n",
       "  <tbody>\n",
       "    <tr>\n",
       "      <th>0</th>\n",
       "      <td>B-26776</td>\n",
       "      <td>UPI</td>\n",
       "      <td>1</td>\n",
       "    </tr>\n",
       "    <tr>\n",
       "      <th>1</th>\n",
       "      <td>B-26942</td>\n",
       "      <td>Debit Card</td>\n",
       "      <td>2</td>\n",
       "    </tr>\n",
       "    <tr>\n",
       "      <th>2</th>\n",
       "      <td>B-26640</td>\n",
       "      <td>EMI</td>\n",
       "      <td>3</td>\n",
       "    </tr>\n",
       "    <tr>\n",
       "      <th>3</th>\n",
       "      <td>B-26640</td>\n",
       "      <td>Credit Card</td>\n",
       "      <td>4</td>\n",
       "    </tr>\n",
       "    <tr>\n",
       "      <th>4</th>\n",
       "      <td>B-25890</td>\n",
       "      <td>UPI</td>\n",
       "      <td>5</td>\n",
       "    </tr>\n",
       "  </tbody>\n",
       "</table>\n",
       "</div>"
      ],
      "text/plain": [
       "  Order ID  PaymentMode  payment_Id\n",
       "0  B-26776          UPI           1\n",
       "1  B-26942   Debit Card           2\n",
       "2  B-26640          EMI           3\n",
       "3  B-26640  Credit Card           4\n",
       "4  B-25890          UPI           5"
      ]
     },
     "execution_count": 9,
     "metadata": {},
     "output_type": "execute_result"
    }
   ],
   "source": [
    "# Payment table\n",
    "Payments_df = sales_perf_df[['Order ID', 'PaymentMode']].copy().drop_duplicates().reset_index(drop=True)\n",
    "Payments_df[\"payment_Id\"] = Payments_df.index + 1\n",
    "Payments_df.head()"
   ]
  },
  {
   "cell_type": "code",
   "execution_count": 10,
   "metadata": {},
   "outputs": [
    {
     "data": {
      "text/plain": [
       "Index(['Order ID', 'Amount', 'Profit', 'Quantity', 'Category', 'Sub-Category',\n",
       "       'PaymentMode', 'Order Date', 'CustomerName', 'State', 'City',\n",
       "       'Year-Month'],\n",
       "      dtype='object')"
      ]
     },
     "execution_count": 10,
     "metadata": {},
     "output_type": "execute_result"
    }
   ],
   "source": [
    "sales_perf_df.columns"
   ]
  },
  {
   "cell_type": "code",
   "execution_count": 21,
   "metadata": {},
   "outputs": [],
   "source": [
    "sales_perf_df = sales_perf_df.merge(Customers_df, on=['CustomerName', 'State', 'City'])\n",
    "sales_perf_df = sales_perf_df.merge(Products_df, on=['Category', 'Sub-Category', 'Amount'])\n",
    "sales_perf_df = sales_perf_df.merge(Payments_df, on=['Order ID', 'PaymentMode'])\n",
    "\n"
   ]
  },
  {
   "cell_type": "code",
   "execution_count": 22,
   "metadata": {},
   "outputs": [
    {
     "data": {
      "text/plain": [
       "Index(['Order ID', 'Amount', 'Profit', 'Quantity', 'Category', 'Sub-Category',\n",
       "       'PaymentMode', 'Order Date', 'CustomerName', 'State', 'City',\n",
       "       'Year-Month', 'customer_Id', 'category_Id', 'payment_Id'],\n",
       "      dtype='object')"
      ]
     },
     "execution_count": 22,
     "metadata": {},
     "output_type": "execute_result"
    }
   ],
   "source": [
    "sales_perf_df.columns"
   ]
  },
  {
   "cell_type": "code",
   "execution_count": 24,
   "metadata": {},
   "outputs": [
    {
     "data": {
      "text/html": [
       "<div>\n",
       "<style scoped>\n",
       "    .dataframe tbody tr th:only-of-type {\n",
       "        vertical-align: middle;\n",
       "    }\n",
       "\n",
       "    .dataframe tbody tr th {\n",
       "        vertical-align: top;\n",
       "    }\n",
       "\n",
       "    .dataframe thead th {\n",
       "        text-align: right;\n",
       "    }\n",
       "</style>\n",
       "<table border=\"1\" class=\"dataframe\">\n",
       "  <thead>\n",
       "    <tr style=\"text-align: right;\">\n",
       "      <th></th>\n",
       "      <th>Order ID</th>\n",
       "      <th>customer_Id</th>\n",
       "      <th>category_Id</th>\n",
       "      <th>payment_Id</th>\n",
       "      <th>Quantity</th>\n",
       "      <th>Profit</th>\n",
       "      <th>Order Date</th>\n",
       "      <th>Year-Month</th>\n",
       "    </tr>\n",
       "  </thead>\n",
       "  <tbody>\n",
       "    <tr>\n",
       "      <th>0</th>\n",
       "      <td>B-26776</td>\n",
       "      <td>1</td>\n",
       "      <td>1</td>\n",
       "      <td>1</td>\n",
       "      <td>5</td>\n",
       "      <td>1275</td>\n",
       "      <td>2023-06-27</td>\n",
       "      <td>2023-06-01</td>\n",
       "    </tr>\n",
       "    <tr>\n",
       "      <th>1</th>\n",
       "      <td>B-26776</td>\n",
       "      <td>2</td>\n",
       "      <td>1</td>\n",
       "      <td>1</td>\n",
       "      <td>5</td>\n",
       "      <td>1275</td>\n",
       "      <td>2024-12-27</td>\n",
       "      <td>2024-12-01</td>\n",
       "    </tr>\n",
       "    <tr>\n",
       "      <th>2</th>\n",
       "      <td>B-26776</td>\n",
       "      <td>3</td>\n",
       "      <td>1</td>\n",
       "      <td>1</td>\n",
       "      <td>5</td>\n",
       "      <td>1275</td>\n",
       "      <td>2021-07-25</td>\n",
       "      <td>2021-07-01</td>\n",
       "    </tr>\n",
       "    <tr>\n",
       "      <th>3</th>\n",
       "      <td>B-26776</td>\n",
       "      <td>1</td>\n",
       "      <td>2</td>\n",
       "      <td>1</td>\n",
       "      <td>14</td>\n",
       "      <td>1330</td>\n",
       "      <td>2023-06-27</td>\n",
       "      <td>2023-06-01</td>\n",
       "    </tr>\n",
       "    <tr>\n",
       "      <th>4</th>\n",
       "      <td>B-26776</td>\n",
       "      <td>2</td>\n",
       "      <td>2</td>\n",
       "      <td>1</td>\n",
       "      <td>14</td>\n",
       "      <td>1330</td>\n",
       "      <td>2024-12-27</td>\n",
       "      <td>2024-12-01</td>\n",
       "    </tr>\n",
       "  </tbody>\n",
       "</table>\n",
       "</div>"
      ],
      "text/plain": [
       "  Order ID  customer_Id  category_Id  payment_Id  Quantity  Profit Order Date  \\\n",
       "0  B-26776            1            1           1         5    1275 2023-06-27   \n",
       "1  B-26776            2            1           1         5    1275 2024-12-27   \n",
       "2  B-26776            3            1           1         5    1275 2021-07-25   \n",
       "3  B-26776            1            2           1        14    1330 2023-06-27   \n",
       "4  B-26776            2            2           1        14    1330 2024-12-27   \n",
       "\n",
       "  Year-Month  \n",
       "0 2023-06-01  \n",
       "1 2024-12-01  \n",
       "2 2021-07-01  \n",
       "3 2023-06-01  \n",
       "4 2024-12-01  "
      ]
     },
     "execution_count": 24,
     "metadata": {},
     "output_type": "execute_result"
    }
   ],
   "source": [
    "Orders_df = sales_perf_df[['Order ID','customer_Id', 'category_Id', 'payment_Id' ,'Quantity', 'Profit', 'Order Date', 'Year-Month']].copy().drop_duplicates().reset_index(drop=True)\n",
    "Orders_df.head()"
   ]
  },
  {
   "cell_type": "code",
   "execution_count": 29,
   "metadata": {},
   "outputs": [],
   "source": [
    "Customers_df.to_csv(r'C:\\Users\\USER\\Desktop\\Sale Performance\\Sale-Performance\\Dataset\\cleanedadata\\Customers.csv', index=False)\n",
    "Products_df.to_csv(r'C:\\Users\\USER\\Desktop\\Sale Performance\\Sale-Performance\\Dataset\\cleanedadata\\Products.csv', index=False)\n",
    "Payments_df.to_csv(r'C:\\Users\\USER\\Desktop\\Sale Performance\\Sale-Performance\\Dataset\\cleanedadata\\Payments.csv', index=False)\n",
    "Orders_df.to_csv(r'C:\\Users\\USER\\Desktop\\Sale Performance\\Sale-Performance\\Dataset\\cleanedadata\\Orders.csv', index=False)"
   ]
  },
  {
   "cell_type": "code",
   "execution_count": 30,
   "metadata": {},
   "outputs": [
    {
     "name": "stdout",
     "output_type": "stream",
     "text": [
      "Monthly Profit Aggregate:\n",
      "   Year-Month  Profit\n",
      "0  2020-03-01    6192\n",
      "1  2020-04-01   36156\n",
      "2  2020-05-01   24294\n",
      "3  2020-06-01    9489\n",
      "4  2020-07-01   12008\n",
      "..        ...     ...\n",
      "56 2024-11-01   15657\n",
      "57 2024-12-01   20981\n",
      "58 2025-01-01   38595\n",
      "59 2025-02-01   28151\n",
      "60 2025-03-01   13497\n",
      "\n",
      "[61 rows x 2 columns]\n"
     ]
    }
   ],
   "source": [
    "# Aggregated monthly profit\n",
    "\n",
    "monthly_profit = Orders_df.groupby('Year-Month')['Profit'].sum().reset_index()\n",
    "print(\"Monthly Profit Aggregate:\")\n",
    "print(monthly_profit)"
   ]
  },
  {
   "cell_type": "code",
   "execution_count": 33,
   "metadata": {},
   "outputs": [
    {
     "name": "stdout",
     "output_type": "stream",
     "text": [
      "Top Customers by Order Count:\n",
      "     customer_Id  Order Count      CustomerName\n",
      "106          107            4     Eric Griffith\n",
      "250          251            4      Jean Jackson\n",
      "37            38            4  Kelsey Castaneda\n",
      "38            39            4  Katherine Harris\n",
      "107          108            4     Anna Ferguson\n",
      "105          106            4       Scott Lewis\n",
      "42            43            4      Andrew Allen\n",
      "405          406            4       Kelly Smith\n",
      "83            84            4     Claudia Curry\n",
      "82            83            4   Christina Davis\n"
     ]
    }
   ],
   "source": [
    "# Top customers by order count\n",
    "top_customers = Orders_df.groupby('customer_Id')['Order ID'].count().reset_index()\n",
    "top_customers.columns = ['customer_Id', 'Order Count']\n",
    "top_customers = top_customers.merge(Customers_df[['customer_Id', 'CustomerName']], on='customer_Id')\n",
    "top_customers = top_customers.sort_values(by='Order Count', ascending=False).head(10)\n",
    "print(\"Top Customers by Order Count:\")\n",
    "print(top_customers)"
   ]
  },
  {
   "cell_type": "code",
   "execution_count": 34,
   "metadata": {},
   "outputs": [
    {
     "name": "stdout",
     "output_type": "stream",
     "text": [
      "Quantity Sold by Category:\n",
      "     category_Id  Quantity         Category\n",
      "505          506       102        Furniture\n",
      "504          505        96        Furniture\n",
      "348          349        80      Electronics\n",
      "493          494        76        Furniture\n",
      "687          688        64  Office Supplies\n",
      "..           ...       ...              ...\n",
      "675          676         1      Electronics\n",
      "129          130         1      Electronics\n",
      "577          578         1        Furniture\n",
      "309          310         1  Office Supplies\n",
      "48            49         1  Office Supplies\n",
      "\n",
      "[800 rows x 3 columns]\n"
     ]
    }
   ],
   "source": [
    "# Quantity sold by category\n",
    "# Assuming 'category_Id' is the category identifier in Orders_df\n",
    "# and 'Category' is the category name in Products_df\n",
    "\n",
    "quantity_by_category = Orders_df.groupby('category_Id')['Quantity'].sum().reset_index()\n",
    "quantity_by_category = quantity_by_category.merge(Products_df[['category_Id', 'Category']], on='category_Id')\n",
    "quantity_by_category = quantity_by_category.sort_values(by='Quantity', ascending=False)\n",
    "print(\"Quantity Sold by Category:\")\n",
    "print(quantity_by_category)"
   ]
  },
  {
   "cell_type": "code",
   "execution_count": null,
   "metadata": {},
   "outputs": [],
   "source": [
    "# Merge Customers_df with Orders_df to add the 'City' column\n",
    "Orders_df = pd.merge(\n",
    "    Orders_df, \n",
    "    Customers_df[['customer_Id', 'City']],  # Select only 'customer_Id' and 'City' from Customers_df\n",
    "    on='customer_Id',  # Join on the foreign key\n",
    ")"
   ]
  },
  {
   "cell_type": "code",
   "execution_count": 44,
   "metadata": {},
   "outputs": [],
   "source": [
    "Orders_df.drop(columns=['City_x', 'City_y'], inplace=True)"
   ]
  },
  {
   "cell_type": "code",
   "execution_count": 45,
   "metadata": {},
   "outputs": [
    {
     "data": {
      "text/html": [
       "<div>\n",
       "<style scoped>\n",
       "    .dataframe tbody tr th:only-of-type {\n",
       "        vertical-align: middle;\n",
       "    }\n",
       "\n",
       "    .dataframe tbody tr th {\n",
       "        vertical-align: top;\n",
       "    }\n",
       "\n",
       "    .dataframe thead th {\n",
       "        text-align: right;\n",
       "    }\n",
       "</style>\n",
       "<table border=\"1\" class=\"dataframe\">\n",
       "  <thead>\n",
       "    <tr style=\"text-align: right;\">\n",
       "      <th></th>\n",
       "      <th>Order ID</th>\n",
       "      <th>customer_Id</th>\n",
       "      <th>category_Id</th>\n",
       "      <th>payment_Id</th>\n",
       "      <th>Quantity</th>\n",
       "      <th>Profit</th>\n",
       "      <th>Order Date</th>\n",
       "      <th>Year-Month</th>\n",
       "      <th>City</th>\n",
       "    </tr>\n",
       "  </thead>\n",
       "  <tbody>\n",
       "    <tr>\n",
       "      <th>0</th>\n",
       "      <td>B-26776</td>\n",
       "      <td>1</td>\n",
       "      <td>1</td>\n",
       "      <td>1</td>\n",
       "      <td>5</td>\n",
       "      <td>1275</td>\n",
       "      <td>2023-06-27</td>\n",
       "      <td>2023-06-01</td>\n",
       "      <td>Miami</td>\n",
       "    </tr>\n",
       "    <tr>\n",
       "      <th>1</th>\n",
       "      <td>B-26776</td>\n",
       "      <td>2</td>\n",
       "      <td>1</td>\n",
       "      <td>1</td>\n",
       "      <td>5</td>\n",
       "      <td>1275</td>\n",
       "      <td>2024-12-27</td>\n",
       "      <td>2024-12-01</td>\n",
       "      <td>Chicago</td>\n",
       "    </tr>\n",
       "    <tr>\n",
       "      <th>2</th>\n",
       "      <td>B-26776</td>\n",
       "      <td>3</td>\n",
       "      <td>1</td>\n",
       "      <td>1</td>\n",
       "      <td>5</td>\n",
       "      <td>1275</td>\n",
       "      <td>2021-07-25</td>\n",
       "      <td>2021-07-01</td>\n",
       "      <td>Buffalo</td>\n",
       "    </tr>\n",
       "    <tr>\n",
       "      <th>3</th>\n",
       "      <td>B-26776</td>\n",
       "      <td>1</td>\n",
       "      <td>2</td>\n",
       "      <td>1</td>\n",
       "      <td>14</td>\n",
       "      <td>1330</td>\n",
       "      <td>2023-06-27</td>\n",
       "      <td>2023-06-01</td>\n",
       "      <td>Miami</td>\n",
       "    </tr>\n",
       "    <tr>\n",
       "      <th>4</th>\n",
       "      <td>B-26776</td>\n",
       "      <td>2</td>\n",
       "      <td>2</td>\n",
       "      <td>1</td>\n",
       "      <td>14</td>\n",
       "      <td>1330</td>\n",
       "      <td>2024-12-27</td>\n",
       "      <td>2024-12-01</td>\n",
       "      <td>Chicago</td>\n",
       "    </tr>\n",
       "  </tbody>\n",
       "</table>\n",
       "</div>"
      ],
      "text/plain": [
       "  Order ID  customer_Id  category_Id  payment_Id  Quantity  Profit Order Date  \\\n",
       "0  B-26776            1            1           1         5    1275 2023-06-27   \n",
       "1  B-26776            2            1           1         5    1275 2024-12-27   \n",
       "2  B-26776            3            1           1         5    1275 2021-07-25   \n",
       "3  B-26776            1            2           1        14    1330 2023-06-27   \n",
       "4  B-26776            2            2           1        14    1330 2024-12-27   \n",
       "\n",
       "  Year-Month     City  \n",
       "0 2023-06-01    Miami  \n",
       "1 2024-12-01  Chicago  \n",
       "2 2021-07-01  Buffalo  \n",
       "3 2023-06-01    Miami  \n",
       "4 2024-12-01  Chicago  "
      ]
     },
     "execution_count": 45,
     "metadata": {},
     "output_type": "execute_result"
    }
   ],
   "source": [
    "Orders_df.head()"
   ]
  },
  {
   "cell_type": "code",
   "execution_count": null,
   "metadata": {},
   "outputs": [
    {
     "name": "stdout",
     "output_type": "stream",
     "text": [
      "Cities with Low Sales Probability:\n",
      "             City  Order Count\n",
      "5        Columbus           49\n",
      "12         Peoria           50\n",
      "7         Houston           52\n",
      "17          Tampa           57\n",
      "8     Los Angeles           61\n",
      "3      Cincinnati           61\n",
      "10  New York City           62\n",
      "2         Chicago           63\n",
      "0          Austin           65\n",
      "9           Miami           66\n",
      "16    Springfield           68\n",
      "4       Cleveland           70\n",
      "6          Dallas           72\n",
      "14      San Diego           73\n",
      "13      Rochester           74\n",
      "11        Orlando           77\n",
      "15  San Francisco           84\n",
      "1         Buffalo           90\n"
     ]
    }
   ],
   "source": [
    "# Now proceed to calculate low-sales cities\n",
    "\n",
    "low_sales_threshold = 100\n",
    "low_sales_cities = Orders_df.groupby('City')['Order ID'].count().reset_index()\n",
    "low_sales_cities.columns = ['City', 'Order Count']\n",
    "low_sales_cities = low_sales_cities[low_sales_cities['Order Count'] < low_sales_threshold]\n",
    "\n",
    "print(\"Cities with Low Sales Probability:\")\n",
    "print(low_sales_cities.sort_values('Order Count'))"
   ]
  },
  {
   "cell_type": "markdown",
   "metadata": {},
   "source": [
    "#### Data Loading into Postgres"
   ]
  },
  {
   "cell_type": "code",
   "execution_count": 55,
   "metadata": {},
   "outputs": [],
   "source": [
    "import psycopg2"
   ]
  },
  {
   "cell_type": "code",
   "execution_count": 56,
   "metadata": {},
   "outputs": [],
   "source": [
    "def get_db_connection():\n",
    "    connection = psycopg2.connect(\n",
    "        host=\"localhost\",\n",
    "        database=\"sales_project\",\n",
    "        user=\"postgres\",\n",
    "        password=\"Tanitoluwa1.\"\n",
    "    )\n",
    "    return connection"
   ]
  },
  {
   "cell_type": "code",
   "execution_count": 57,
   "metadata": {},
   "outputs": [],
   "source": [
    "conn = get_db_connection()"
   ]
  }
 ],
 "metadata": {
  "kernelspec": {
   "display_name": "base",
   "language": "python",
   "name": "python3"
  },
  "language_info": {
   "codemirror_mode": {
    "name": "ipython",
    "version": 3
   },
   "file_extension": ".py",
   "mimetype": "text/x-python",
   "name": "python",
   "nbconvert_exporter": "python",
   "pygments_lexer": "ipython3",
   "version": "3.11.5"
  }
 },
 "nbformat": 4,
 "nbformat_minor": 2
}
